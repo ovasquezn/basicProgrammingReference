{
 "cells": [
  {
   "cell_type": "markdown",
   "id": "ec667d85",
   "metadata": {},
   "source": [
    "## 1. Saludo personalizado\n",
    "Define una función que reciba un nombre y muestre un saludo."
   ]
  },
  {
   "cell_type": "code",
   "execution_count": 20,
   "id": "cfe04255",
   "metadata": {},
   "outputs": [
    {
     "name": "stdout",
     "output_type": "stream",
     "text": [
      "Hola Nombre del usuario\n"
     ]
    }
   ],
   "source": [
    "\n",
    "def saludar(nombre):\n",
    "\tprint(f\"Hola {nombre}\")\n",
    "\n",
    "nombre = \"Nombre del usuario\"\n",
    "saludar(nombre)"
   ]
  },
  {
   "cell_type": "markdown",
   "id": "86644ca8",
   "metadata": {},
   "source": [
    "## 2. Suma de dos números\n",
    "Crea una función que reciba dos números como parámetros y retorne su suma."
   ]
  },
  {
   "cell_type": "code",
   "execution_count": 22,
   "id": "a47cc142",
   "metadata": {},
   "outputs": [
    {
     "name": "stdout",
     "output_type": "stream",
     "text": [
      " 4 + 5 = 9\n"
     ]
    }
   ],
   "source": [
    "def suma_dos_numeros(a,b):\n",
    "\treturn f\" {a} + {b} = {a+b}\"\n",
    "\n",
    "a, b = 4, 5\n",
    "print(suma_dos_numeros(a, b))"
   ]
  },
  {
   "cell_type": "markdown",
   "id": "639f1f9d",
   "metadata": {},
   "source": [
    "## 3. Es par o impar\n",
    "Escribe una función que reciba un número y devuelva True si es par y False si es impar."
   ]
  },
  {
   "cell_type": "code",
   "execution_count": 25,
   "id": "fbee1492",
   "metadata": {},
   "outputs": [
    {
     "name": "stdout",
     "output_type": "stream",
     "text": [
      "El número 5 es impar\n"
     ]
    }
   ],
   "source": [
    "num = 5\n",
    "def par_o_impar(num):\n",
    "\tif num % 2 == 0:\n",
    "\t\treturn True\n",
    "\telse:\n",
    "\t\treturn False\n",
    "\n",
    "print(f\"El número {num} es {'par' if par_o_impar(num) else 'impar'}\")"
   ]
  },
  {
   "cell_type": "markdown",
   "id": "8955ab7d",
   "metadata": {},
   "source": [
    "## Área de un círculo\n",
    "Crea una función que calcule el área de un círculo (A = πr²) con un radio como argumento. Usa math.pi."
   ]
  },
  {
   "cell_type": "code",
   "execution_count": 28,
   "id": "ce42d57d",
   "metadata": {},
   "outputs": [
    {
     "name": "stdout",
     "output_type": "stream",
     "text": [
      "El área del círculo de radio 3 es 28.27\n"
     ]
    }
   ],
   "source": [
    "r = 3\n",
    "import math\n",
    "def area_circulo(r):\n",
    "\treturn math.pi*r**2\n",
    "\n",
    "print(f\"El área del círculo de radio {r} es {round(area_circulo(r),2)}\")"
   ]
  },
  {
   "cell_type": "markdown",
   "id": "ae715136",
   "metadata": {},
   "source": [
    "## Valores por defecto\n",
    "Crea una función que reciba nombre y edad, pero si no se entrega edad, asume 18."
   ]
  },
  {
   "cell_type": "code",
   "execution_count": 29,
   "id": "82a3ba17",
   "metadata": {},
   "outputs": [
    {
     "name": "stdout",
     "output_type": "stream",
     "text": [
      "El nombre es Juan y la edad es 18\n",
      "El nombre es Ana y la edad es 25\n"
     ]
    }
   ],
   "source": [
    "def funcion_argumentos_predefinidos(nombre, edad=18):\n",
    "\tprint(f\"El nombre es {nombre} y la edad es {edad}\")\n",
    "\t\n",
    "funcion_argumentos_predefinidos(\"Juan\")\n",
    "funcion_argumentos_predefinidos(\"Ana\", 25)"
   ]
  },
  {
   "cell_type": "markdown",
   "id": "4a0e83b6",
   "metadata": {},
   "source": [
    "## Operaciones múltiples\n",
    "Define una función que reciba dos números y retorne su suma, resta, multiplicación y división (4 valores)."
   ]
  },
  {
   "cell_type": "code",
   "execution_count": 33,
   "id": "20220274",
   "metadata": {},
   "outputs": [
    {
     "name": "stdout",
     "output_type": "stream",
     "text": [
      "\n",
      "    Suma: 3\n",
      "    Resta: 3\n",
      "    Multiplicación: 0\n",
      "    División: Error\n",
      "\t\t\n"
     ]
    }
   ],
   "source": [
    "a, b = 3, 0\n",
    "def operaciones(a,b):\n",
    "\tsuma = a+b\n",
    "\tresta = a-b\n",
    "\tmultiplicacion = a*b\n",
    "\tdivision = a/b if b!=0 else \"Error\"\n",
    "\treturn f\"\"\"\n",
    "    Suma: {suma}\n",
    "    Resta: {resta}\n",
    "    Multiplicación: {multiplicacion}\n",
    "    División: {division}\n",
    "\t\t\"\"\"\n",
    "\n",
    "print(operaciones(a, b))"
   ]
  },
  {
   "cell_type": "markdown",
   "id": "d559410f",
   "metadata": {},
   "source": [
    "## Contador de palabras\n",
    "Crea una función que reciba un texto y retorne un diccionario con la frecuencia de cada palabra."
   ]
  },
  {
   "cell_type": "code",
   "execution_count": null,
   "id": "f19829ba",
   "metadata": {},
   "outputs": [
    {
     "name": "stdout",
     "output_type": "stream",
     "text": [
      "{'Esto': 1, 'es': 1, 'un': 2, 'texto': 1, 'de': 2, 'ejemplo': 1}\n",
      "{'Esto': 1, 'es': 1, 'un': 2, 'texto': 1, 'de': 2, 'ejemplo': 1}\n"
     ]
    }
   ],
   "source": [
    "texto = \"Esto es un texto de ejemplo de un\"\n",
    "def frecuencia_de_palabras1(texto):\n",
    "    resultado = {}\n",
    "    for value in texto.split():\n",
    "        if value not in resultado.keys():\n",
    "            resultado[value]=1\n",
    "        else:\n",
    "            resultado[value]+=1\n",
    "    return resultado\n",
    "\n",
    "def frecuencia_de_palabras2(texto):\n",
    "   resultado = {}\n",
    "   for palabra in texto.split():\n",
    "       resultado[palabra] = resultado.get(palabra, 0) + 1 # Usando get para simplificar\n",
    "   return resultado\n",
    "\n",
    "print(frecuencia_de_palabras1(texto))\n",
    "print(frecuencia_de_palabras2(texto))"
   ]
  },
  {
   "cell_type": "markdown",
   "id": "b0d090a7",
   "metadata": {},
   "source": [
    "## Uso de `*args` y `**kwargs`\n",
    "\n",
    "- Crea una función que acepte una cantidad variable de números y retorne la suma total.\n",
    "- Crea una función que reciba `**kwargs` con datos personales y los imprima en forma de tabla."
   ]
  },
  {
   "cell_type": "code",
   "execution_count": 34,
   "id": "82362997",
   "metadata": {},
   "outputs": [
    {
     "name": "stdout",
     "output_type": "stream",
     "text": [
      "15\n"
     ]
    }
   ],
   "source": [
    "def uso_de_args(*args):\n",
    "\tsuma = 0\n",
    "\tfor arg in args:\n",
    "\t\tsuma+=arg\n",
    "\treturn suma\n",
    "print(uso_de_args(1,2,3,4,5))"
   ]
  },
  {
   "cell_type": "code",
   "execution_count": 17,
   "id": "9732f13f",
   "metadata": {},
   "outputs": [
    {
     "name": "stdout",
     "output_type": "stream",
     "text": [
      "Nombre: Orlando\n",
      "Apellido: Vásquez\n",
      "Edad: 31\n",
      "Pais: Chile\n"
     ]
    }
   ],
   "source": [
    "def uso_de_kargs(**kwargs):\n",
    "    for clave, valor in kwargs.items():\n",
    "        clave_formateada = clave.replace('_', ' ').title()\n",
    "        print(f\"{clave_formateada}: {valor}\")\n",
    "\n",
    "uso_de_kargs(\n",
    "    nombre=\"Orlando\",\n",
    "    apellido=\"Vásquez\",\n",
    "    edad=31,\n",
    "    pais=\"Chile\",\n",
    ")"
   ]
  },
  {
   "cell_type": "markdown",
   "id": "d91157a2",
   "metadata": {},
   "source": [
    "## Funciones lambda con `map()` y `filter()`\n",
    "\n",
    "- Usa `map()` y `lambda` para elevar al cuadrado los números de una lista.\n",
    "- Usa `filter()` y `lambda` para quedarte con los números mayores que 10."
   ]
  },
  {
   "cell_type": "code",
   "execution_count": 40,
   "id": "940f5805",
   "metadata": {},
   "outputs": [
    {
     "name": "stdout",
     "output_type": "stream",
     "text": [
      "Lista original: [1, 2, 3, 4, 5, 6, 7, 8, 9, 10, 11]\n",
      "Lista de cuadrados: [1, 4, 9, 16, 25, 36, 49, 64, 81, 100, 121]\n",
      "Lista filtrada: [11]\n"
     ]
    }
   ],
   "source": [
    "lista = [1, 2, 3, 4, 5,6,7,8,9,10,11]\n",
    "\n",
    "cuadrados = list(map(lambda x: x**2, lista))\n",
    "filtrados = list(filter(lambda x: x>10, lista))\n",
    "print(f\"Lista original: {lista}\")\n",
    "print(f\"Lista de cuadrados: {cuadrados}\")\n",
    "print(f\"Lista filtrada: {filtrados}\")"
   ]
  },
  {
   "cell_type": "markdown",
   "id": "128aaac6",
   "metadata": {},
   "source": [
    "## sorted() con clave personalizada\n",
    "Ordena una lista de tuplas con nombre y edad por edad descendente usando lambda."
   ]
  },
  {
   "cell_type": "code",
   "execution_count": null,
   "id": "b7e7ffa4",
   "metadata": {},
   "outputs": [
    {
     "name": "stdout",
     "output_type": "stream",
     "text": [
      "Lista de tuplas ordenada por edad (de mayor a menor):\n",
      "[('Nombre 3', 35), ('Nombre 2', 30), ('Nombre 1', 25), ('Nombre 4', 20)]\n"
     ]
    }
   ],
   "source": [
    "lista_de_tuplas = [(\"Nombre 1\", 25), (\"Nombre 2\", 30), (\"Nombre 3\", 35), (\"Nombre 4\", 20)]\n",
    "lista_ordenada = sorted(lista_de_tuplas, key=lambda x: x[1], reverse=True)\n",
    "print(\"Lista de tuplas ordenada descendente por edad:\")\n",
    "print(lista_ordenada)"
   ]
  },
  {
   "cell_type": "markdown",
   "id": "f2023ab8",
   "metadata": {},
   "source": [
    "## Decorador de tiempo de ejecución\n",
    "Implementa un decorador llamado @tiempo que mida cuánto tarda una función en ejecutarse."
   ]
  },
  {
   "cell_type": "code",
   "execution_count": null,
   "id": "01667585",
   "metadata": {},
   "outputs": [
    {
     "name": "stdout",
     "output_type": "stream",
     "text": [
      "Midiendo\n",
      "Tiempo de ejecución: 1.0053 segundos\n"
     ]
    }
   ],
   "source": [
    "import time\n",
    "\n",
    "def tiempo(func):\n",
    "    def wrapper(*args, **kwargs):\n",
    "        inicio = time.time()\n",
    "        resultado = func(*args, **kwargs)\n",
    "        fin = time.time()\n",
    "        print(f\"Tiempo de ejecución: {fin - inicio:.4f} segundos\")\n",
    "        return resultado\n",
    "    return wrapper\n",
    "\n",
    "# import functools\n",
    "\n",
    "# def tiempo(func):\n",
    "#     @functools.wraps(func)\n",
    "#     def wrapper(*args, **kwargs):\n",
    "#         inicio = time.time()\n",
    "#         resultado = func(*args, **kwargs)\n",
    "#         fin = time.time()\n",
    "#         print(f\"Tiempo de ejecución: {fin - inicio:.4f} segundos\")\n",
    "#         return resultado\n",
    "#     return wrapper\n",
    "\n",
    "@tiempo\n",
    "def funcion_trabajando():\n",
    "    time.sleep(1)\n",
    "    print(\"Midiendo\")\n",
    "\n",
    "funcion_trabajando()"
   ]
  },
  {
   "cell_type": "markdown",
   "id": "7e0ab9bf",
   "metadata": {},
   "source": [
    "## Decorador de validación de argumentos\n",
    "Crea un decorador que revise si los argumentos son enteros. Si no lo son, imprime un mensaje de error."
   ]
  },
  {
   "cell_type": "code",
   "execution_count": null,
   "id": "3c224966",
   "metadata": {},
   "outputs": [
    {
     "name": "stdout",
     "output_type": "stream",
     "text": [
      "([1, 2, 3, 4.2],)\n",
      "Todo correcto\n"
     ]
    }
   ],
   "source": [
    "def verificador(func):\n",
    "    def wrapper(*args, **kwargs):\n",
    "        for arg in args:\n",
    "            if not isinstance(arg, int):\n",
    "                print(\"Error: todos los argumentos deben ser enteros\")\n",
    "                return\n",
    "        for valor in kwargs.values():\n",
    "            if not isinstance(valor, int):\n",
    "                print(\"Error: todos los argumentos deben ser enteros\")\n",
    "                return\n",
    "        print(\"Todo correcto\")\n",
    "        return func(*args, **kwargs)\n",
    "    return wrapper\n",
    "\n",
    "@verificador\n",
    "def lista_de_numeros(*nums):\n",
    "    print(nums)\n",
    "\n",
    "lista_de_numeros(1, 2, 3, 4)\n",
    "lista_de_numeros(1, 2, 3.5, 4)\n"
   ]
  },
  {
   "cell_type": "markdown",
   "id": "9abe7a2c",
   "metadata": {},
   "source": [
    "## Contador con nonlocal\n",
    "Crea una función contador() que retorne una función interna. Cada vez que se llame, debe incrementar un valor interno (usando nonlocal)."
   ]
  },
  {
   "cell_type": "code",
   "execution_count": null,
   "id": "1df4702f",
   "metadata": {},
   "outputs": [
    {
     "name": "stdout",
     "output_type": "stream",
     "text": [
      "1\n",
      "2\n",
      "3\n"
     ]
    }
   ],
   "source": [
    "def contador():\n",
    "    contador = 0\n",
    "    def interna():\n",
    "        nonlocal contador\n",
    "        contador+=1\n",
    "        return contador\n",
    "    return interna\n",
    "c = contador()\n",
    "print(c())\n",
    "print(c())\n",
    "print(c())"
   ]
  },
  {
   "cell_type": "markdown",
   "id": "ae20a3fc",
   "metadata": {},
   "source": [
    "## Ámbitos y shadowing\n",
    "Define una función anidada donde una variable se redefine en cada nivel (local, enclosing, global). Usa print() para mostrar su valor en cada nivel."
   ]
  },
  {
   "cell_type": "code",
   "execution_count": 78,
   "id": "4ad2a200",
   "metadata": {},
   "outputs": [
    {
     "name": "stdout",
     "output_type": "stream",
     "text": [
      "Local: local\n",
      "Enclosing: enclosing\n",
      "Global: global\n"
     ]
    }
   ],
   "source": [
    "x = \"global\"\n",
    "def externa():\n",
    "    x = \"enclosing\"\n",
    "    def interna():\n",
    "        x = \"local\" \n",
    "        print(\"Local:\", x)\n",
    "    interna()\n",
    "    print(\"Enclosing:\", x)\n",
    "\n",
    "externa()\n",
    "print(\"Global:\", x)\n"
   ]
  },
  {
   "cell_type": "markdown",
   "id": "e4dbbfee",
   "metadata": {},
   "source": [
    "## Decoradores anidados con transformación de texto\n",
    "Define tres decoradores:\n",
    "\n",
    "- Uno que convierta texto a mayúsculas\n",
    "- Otro que agregue signos de exclamación\n",
    "- Otro que duplique el mensaje\n",
    "\n",
    "Aplícalos a una función `mensaje()` y analiza el orden de ejecución."
   ]
  },
  {
   "cell_type": "code",
   "execution_count": 80,
   "id": "645d9d5c",
   "metadata": {},
   "outputs": [
    {
     "name": "stdout",
     "output_type": "stream",
     "text": [
      "HOLA!HOLA!\n"
     ]
    }
   ],
   "source": [
    "def mayusculas(func):\n",
    "    def wrapper():\n",
    "        return func().upper()\n",
    "    return wrapper\n",
    "\n",
    "def exclamacion(func):\n",
    "    def wrapper():\n",
    "        return func() + \"!\"\n",
    "    return wrapper\n",
    "\n",
    "def duplica(func):\n",
    "    def wrapper():\n",
    "        return func()+func()\n",
    "    return wrapper\n",
    "\n",
    "@duplica\n",
    "@exclamacion\n",
    "@mayusculas\n",
    "def saludar():\n",
    "    return \"Hola\"\n",
    "\n",
    "print(saludar())  # HOLA!"
   ]
  },
  {
   "cell_type": "code",
   "execution_count": null,
   "id": "b6dbaa94",
   "metadata": {},
   "outputs": [],
   "source": []
  }
 ],
 "metadata": {
  "kernelspec": {
   "display_name": "base",
   "language": "python",
   "name": "python3"
  },
  "language_info": {
   "codemirror_mode": {
    "name": "ipython",
    "version": 3
   },
   "file_extension": ".py",
   "mimetype": "text/x-python",
   "name": "python",
   "nbconvert_exporter": "python",
   "pygments_lexer": "ipython3",
   "version": "3.12.8"
  }
 },
 "nbformat": 4,
 "nbformat_minor": 5
}
