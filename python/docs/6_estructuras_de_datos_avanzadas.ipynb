{
 "cells": [
  {
   "cell_type": "markdown",
   "id": "3d250d3d",
   "metadata": {},
   "source": [
    "## 1. Contador de vocales    \n",
    "Escribe una función que reciba una cadena y devuelva un diccionario con el conteo de cada vocal (`a`, `e`, `i`, `o`, `u`)."
   ]
  },
  {
   "cell_type": "code",
   "execution_count": 1,
   "id": "a2f6e95d",
   "metadata": {},
   "outputs": [
    {
     "name": "stdout",
     "output_type": "stream",
     "text": [
      "{'a': 3, 'e': 5, 'i': 0, 'o': 2, 'u': 2}\n"
     ]
    }
   ],
   "source": [
    "def contar_vocales(cadena):\n",
    "    # Inicializamos el diccionario con las vocales en 0\n",
    "    conteo = {'a': 0, 'e': 0, 'i': 0, 'o': 0, 'u': 0}\n",
    "\n",
    "    # Recorremos la cadena en minúsculas para evitar problemas de mayúsculas\n",
    "    for caracter in cadena.lower():\n",
    "        if caracter in conteo:\n",
    "            conteo[caracter] += 1\n",
    "\n",
    "    return conteo\n",
    "\n",
    "texto = \"Esto es una prueba de vocales\"\n",
    "resultado = contar_vocales(texto)\n",
    "print(resultado)"
   ]
  },
  {
   "cell_type": "markdown",
   "id": "a1b0f2a3",
   "metadata": {},
   "source": [
    "## 2. Eliminar duplicados y ordenar\n",
    "Dada una lista con elementos repetidos, retorna una nueva lista sin duplicados y ordenada de menor a mayor."
   ]
  },
  {
   "cell_type": "code",
   "execution_count": null,
   "id": "702dd50c",
   "metadata": {},
   "outputs": [
    {
     "name": "stdout",
     "output_type": "stream",
     "text": [
      "[1, 2, 3, 4]\n"
     ]
    }
   ],
   "source": [
    "lista = [4, 3, 3, 2, 1, 1]\n",
    "\n",
    "# Eliminar duplicados con set y luego ordenar\n",
    "lista_sin_duplicados_ordenada = sorted(set(lista))\n",
    "print(lista_sin_duplicados_ordenada)\n"
   ]
  },
  {
   "cell_type": "markdown",
   "id": "ee5c37ff",
   "metadata": {},
   "source": [
    "## 3. Diccionario de cuadrados\n",
    "    \n",
    "Crea un diccionario que contenga los números del 1 al 10 como claves y sus cuadrados como valores, usando comprensión de diccionario."
   ]
  },
  {
   "cell_type": "code",
   "execution_count": 3,
   "id": "07309c66",
   "metadata": {},
   "outputs": [
    {
     "data": {
      "text/plain": [
       "{1: 1, 2: 4, 3: 9, 4: 16, 5: 25, 6: 36, 7: 49, 8: 64, 9: 81, 10: 100}"
      ]
     },
     "execution_count": 3,
     "metadata": {},
     "output_type": "execute_result"
    }
   ],
   "source": [
    "cuadrados = {x: x**2 for x in range(1,11)}\n",
    "cuadrados"
   ]
  },
  {
   "cell_type": "markdown",
   "id": "badd10f3",
   "metadata": {},
   "source": [
    "## 4. Emparejar listas con `zip()`\n",
    "    \n",
    "Dadas dos listas, una de nombres y otra de edades, crea una lista de tuplas con cada nombre y su edad correspondiente."
   ]
  },
  {
   "cell_type": "code",
   "execution_count": 4,
   "id": "14baae2c",
   "metadata": {},
   "outputs": [
    {
     "data": {
      "text/plain": [
       "[('Nombre 1', 22), ('Nombre 2', 23), ('Nombre 4', 24)]"
      ]
     },
     "execution_count": 4,
     "metadata": {},
     "output_type": "execute_result"
    }
   ],
   "source": [
    "nombres = [\"Nombre 1\",\"Nombre 2\",\"Nombre 4\"]\n",
    "edades = [22,23,24]\n",
    "\n",
    "nombres_y_edades = list(zip(nombres,edades))\n",
    "nombres_y_edades"
   ]
  },
  {
   "cell_type": "markdown",
   "id": "e93946eb",
   "metadata": {},
   "source": [
    "## 5. Reversa segura de lista\n",
    "    \n",
    "Crea una función que reciba una lista y devuelva una copia invertida, sin modificar la original."
   ]
  },
  {
   "cell_type": "code",
   "execution_count": 9,
   "id": "7222aab1",
   "metadata": {},
   "outputs": [
    {
     "name": "stdout",
     "output_type": "stream",
     "text": [
      "([1, 2, 4, 3], [3, 4, 2, 1])\n"
     ]
    }
   ],
   "source": [
    "def invertir_lista(lista):\n",
    "    return lista[::-1], lista\n",
    "\n",
    "lista_1 = [3,4,2,1]\n",
    "print(invertir_lista(lista_1))"
   ]
  },
  {
   "cell_type": "markdown",
   "id": "19c3c550",
   "metadata": {},
   "source": [
    "## 6. Agrupador con `defaultdict`\n",
    "    \n",
    "Dada una lista de tuplas tipo `(categoria, valor)`, agrupa los valores por categoría.\n",
    "\n",
    "datos = [(\"fruta\", \"manzana\"), (\"verdura\", \"zanahoria\"), (\"fruta\", \"pera\")]\n"
   ]
  },
  {
   "cell_type": "code",
   "execution_count": null,
   "id": "644a5e4a",
   "metadata": {},
   "outputs": [
    {
     "data": {
      "text/plain": [
       "defaultdict(list, {'frutas': ['manzana', 'pera'], 'verduras': ['lechuga']})"
      ]
     },
     "execution_count": 11,
     "metadata": {},
     "output_type": "execute_result"
    }
   ],
   "source": [
    "from collections import defaultdict\n",
    "\n",
    "datos = [(\"fruta\", \"manzana\"), (\"verdura\", \"zanahoria\"), (\"fruta\", \"pera\")]\n",
    "\n",
    "grupos = defaultdict(list)\n",
    "\n",
    "grupos[\"frutas\"].append(\"manzana\")\n",
    "grupos[\"frutas\"].append(\"pera\")\n",
    "grupos[\"verduras\"].append(\"lechuga\")\n",
    "\n",
    "grupos"
   ]
  },
  {
   "cell_type": "markdown",
   "id": "2f8ed406",
   "metadata": {},
   "source": [
    "## 7. Frecuencia con `Counter`\n",
    "    \n",
    "Dada una lista de palabras, usa `collections.Counter` para mostrar las 3 más frecuentes."
   ]
  },
  {
   "cell_type": "code",
   "execution_count": 12,
   "id": "7cd524b3",
   "metadata": {},
   "outputs": [
    {
     "data": {
      "text/plain": [
       "[('es', 3), ('un', 2), ('ejemplo', 2)]"
      ]
     },
     "execution_count": 12,
     "metadata": {},
     "output_type": "execute_result"
    }
   ],
   "source": [
    "from collections import Counter\n",
    "\n",
    "palabras = ['Esto','es','un','ejemplo','de palabras','es','un','ejemplo','es']\n",
    "conteo = Counter(palabras)\n",
    "\n",
    "conteo.most_common(3)\n"
   ]
  },
  {
   "cell_type": "markdown",
   "id": "b2e02f7d",
   "metadata": {},
   "source": [
    "## 8. Operaciones con conjuntos\n",
    "    \n",
    "Dadas dos listas, encuentra:\n",
    "    \n",
    "* Los elementos comunes\n",
    "* Los únicos de la primera lista\n",
    "* La diferencia simétrica"
   ]
  },
  {
   "cell_type": "code",
   "execution_count": 17,
   "id": "eaaca003",
   "metadata": {},
   "outputs": [
    {
     "name": "stdout",
     "output_type": "stream",
     "text": [
      "{3, 4, 5}\n",
      "{1, 2}\n",
      "{1, 2, 6, 7}\n"
     ]
    }
   ],
   "source": [
    "lista_1 = [1,1,2,3,4,5]\n",
    "lista_2 = [3,4,5,6,7,7]\n",
    "\n",
    "set_1, set_2 = set(lista_1), set(lista_2)\n",
    "\n",
    "print(set_1 & set_2)\n",
    "print(set_1 - set_2)\n",
    "print(set_1 ^ set_2)"
   ]
  },
  {
   "cell_type": "markdown",
   "id": "dc19ba4c",
   "metadata": {},
   "source": [
    "## 9. Rotación de lista con `deque`\n",
    "    \n",
    "Escribe una función que reciba una lista y un número `n`, y la rote `n`posiciones a la derecha."
   ]
  },
  {
   "cell_type": "code",
   "execution_count": 25,
   "id": "5f5d6a22",
   "metadata": {},
   "outputs": [
    {
     "name": "stdout",
     "output_type": "stream",
     "text": [
      "deque([3, 4, 1, 2])\n"
     ]
    }
   ],
   "source": [
    "from collections import deque\n",
    "\n",
    "def rotar_lista(lista, n):\n",
    "    cola = deque(lista)\n",
    "    cola.rotate(n)\n",
    "    return cola\n",
    "\n",
    "test = [1,2,3,4]\n",
    "print(rotar_lista(test,2))"
   ]
  },
  {
   "cell_type": "markdown",
   "id": "5f43e510",
   "metadata": {},
   "source": [
    "## 10. Recuento de letras únicas\n",
    "    \n",
    "Dado un texto, usa `set` para contar cuántas letras distintas (ignorando espacios y mayúsculas) contiene."
   ]
  },
  {
   "cell_type": "code",
   "execution_count": 30,
   "id": "cd84f0cc",
   "metadata": {},
   "outputs": [
    {
     "name": "stdout",
     "output_type": "stream",
     "text": [
      "Letras únicas: 15\n"
     ]
    }
   ],
   "source": [
    "def contar_letras_unicas(texto):\n",
    "    texto = texto.lower()\n",
    "    letras = [c for c in texto if c.isalpha()]\n",
    "    letras_unicas = set(letras)\n",
    "    return len(letras_unicas)\n",
    "\n",
    "texto = \"Dado un texto, usa set para contar cuántas letras distintas contiene.\"\n",
    "print(f\"Letras únicas: {contar_letras_unicas(texto)}\")\n"
   ]
  },
  {
   "cell_type": "markdown",
   "id": "2548762f",
   "metadata": {},
   "source": [
    "## 11. Sistema de inventario agrupado\n",
    "    \n",
    "Dada una lista de productos tipo `(nombre, cantidad)`, genera un`defaultdict` que sume las cantidades por nombre, y elimine duplicados."
   ]
  },
  {
   "cell_type": "code",
   "execution_count": null,
   "id": "60adf9de",
   "metadata": {},
   "outputs": [],
   "source": []
  }
 ],
 "metadata": {
  "kernelspec": {
   "display_name": "base",
   "language": "python",
   "name": "python3"
  },
  "language_info": {
   "codemirror_mode": {
    "name": "ipython",
    "version": 3
   },
   "file_extension": ".py",
   "mimetype": "text/x-python",
   "name": "python",
   "nbconvert_exporter": "python",
   "pygments_lexer": "ipython3",
   "version": "3.12.8"
  }
 },
 "nbformat": 4,
 "nbformat_minor": 5
}
