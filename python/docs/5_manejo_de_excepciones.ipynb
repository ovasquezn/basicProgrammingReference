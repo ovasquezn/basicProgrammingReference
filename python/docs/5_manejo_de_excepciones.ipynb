{
 "cells": [
  {
   "cell_type": "markdown",
   "id": "d4ad80f3",
   "metadata": {},
   "source": [
    "# Manejo de Excepcion\n",
    "\n",
    "## División segura\n",
    "Pide dos números al usuario e imprime el resultado de la división. Captura el error si el segundo número es cero."
   ]
  },
  {
   "cell_type": "code",
   "execution_count": 2,
   "id": "89295cb3",
   "metadata": {},
   "outputs": [
    {
     "name": "stdout",
     "output_type": "stream",
     "text": [
      "Error, división por cero\n"
     ]
    }
   ],
   "source": [
    "a, b = map(int, input(\"Ingresa 2 números separados por espacios: \").split())\n",
    "\n",
    "try: \n",
    "    print(a/b)\n",
    "except ZeroDivisionError:\n",
    "    print(\"Error, división por cero\")"
   ]
  },
  {
   "cell_type": "code",
   "execution_count": 5,
   "id": "fbc5e868",
   "metadata": {},
   "outputs": [
    {
     "name": "stdout",
     "output_type": "stream",
     "text": [
      "Error: división por cero.\n"
     ]
    }
   ],
   "source": [
    "try:\n",
    "    a, b = map(int, input(\"Ingresa 2 números separados por espacios: \").split())\n",
    "    print(a / b)\n",
    "except ValueError:\n",
    "    print(\"Error: debes ingresar dos números enteros.\")\n",
    "except ZeroDivisionError:\n",
    "    print(\"Error: división por cero.\")"
   ]
  },
  {
   "cell_type": "code",
   "execution_count": 6,
   "id": "7785c62e",
   "metadata": {},
   "outputs": [
    {
     "name": "stdout",
     "output_type": "stream",
     "text": [
      "Error: división por cero.\n"
     ]
    }
   ],
   "source": [
    "def dividir():\n",
    "    entrada = input(\"Ingresa 2 números separados por espacios: \")\n",
    "    try:\n",
    "        a, b = map(int, entrada.split())\n",
    "        resultado = a / b\n",
    "        print(\"Resultado:\", resultado)\n",
    "    except ValueError:\n",
    "        print(\"Error: entrada inválida. Asegúrate de ingresar dos números enteros.\")\n",
    "    except ZeroDivisionError:\n",
    "        print(\"Error: división por cero.\")\n",
    "\n",
    "dividir()"
   ]
  },
  {
   "cell_type": "markdown",
   "id": "75814ca5",
   "metadata": {},
   "source": [
    "## Conversión de edad\n",
    "Solicita al usuario su edad y conviértela a entero. Si la entrada no es válida, muestra un mensaje de error y vuelve a intentarlo hasta que sea correcta."
   ]
  },
  {
   "cell_type": "code",
   "execution_count": null,
   "id": "b6aca0af",
   "metadata": {},
   "outputs": [
    {
     "name": "stdout",
     "output_type": "stream",
     "text": [
      "Entrada no válidad\n"
     ]
    }
   ],
   "source": [
    "try:\n",
    "    edad = int(input(\"Ingresa tu edad\"))\n",
    "    print(\"La edad es\", edad)\n",
    "except ValueError:\n",
    "    print(\"Entrada no válida\")"
   ]
  },
  {
   "cell_type": "code",
   "execution_count": 12,
   "id": "31a61859",
   "metadata": {},
   "outputs": [
    {
     "name": "stdout",
     "output_type": "stream",
     "text": [
      "Entrada no válida. Intenta nuevamente.\n",
      "Entrada no válida. Intenta nuevamente.\n",
      "Entrada no válida. Intenta nuevamente.\n",
      "Entrada no válida. Intenta nuevamente.\n",
      "La edad es 3\n"
     ]
    }
   ],
   "source": [
    "while True:\n",
    "    try:\n",
    "        edad = int(input(\"Ingresa tu edad: \"))\n",
    "        print(\"La edad es\", edad)\n",
    "        break\n",
    "    except ValueError:\n",
    "        print(\"Entrada no válida. Intenta nuevamente.\")"
   ]
  },
  {
   "cell_type": "code",
   "execution_count": 14,
   "id": "54d62fc9",
   "metadata": {},
   "outputs": [
    {
     "name": "stdout",
     "output_type": "stream",
     "text": [
      "La edad no puede ser negativa.\n",
      "Entrada no válida. Intenta nuevamente.\n",
      "Entrada no válida. Intenta nuevamente.\n",
      "La edad es 2\n"
     ]
    }
   ],
   "source": [
    "while True:\n",
    "    try:\n",
    "        edad = int(input(\"Ingresa tu edad: \"))\n",
    "        if edad < 0:\n",
    "            print(\"La edad no puede ser negativa.\")\n",
    "        else:\n",
    "            print(\"La edad es\", edad)\n",
    "            break\n",
    "    except ValueError:\n",
    "        print(\"Entrada no válida. Intenta nuevamente.\")"
   ]
  },
  {
   "cell_type": "markdown",
   "id": "a8a909dc",
   "metadata": {},
   "source": [
    "## Acceso a lista segura\n",
    "Dada una lista de 3 elementos, pide al usuario un índice y muestra el valor correspondiente. Maneja el posible IndexError."
   ]
  },
  {
   "cell_type": "code",
   "execution_count": 17,
   "id": "dd12ba50",
   "metadata": {},
   "outputs": [
    {
     "name": "stdout",
     "output_type": "stream",
     "text": [
      "Indice no válido\n"
     ]
    }
   ],
   "source": [
    "lista = [44,55,66]\n",
    "\n",
    "try:\n",
    "    index = int(input(\"Ingresa un indice\"))\n",
    "    print(f\"El elemento {index} de la lista es {lista[index]}\")\n",
    "except IndexError:\n",
    "    print(\"Indice no válido\")"
   ]
  },
  {
   "cell_type": "code",
   "execution_count": 18,
   "id": "1abdabda",
   "metadata": {},
   "outputs": [
    {
     "name": "stdout",
     "output_type": "stream",
     "text": [
      "Índice fuera del rango. Intenta nuevamente.\n",
      "Índice fuera del rango. Intenta nuevamente.\n",
      "Índice fuera del rango. Intenta nuevamente.\n",
      "El elemento 2 de la lista es 66\n"
     ]
    }
   ],
   "source": [
    "lista = [44, 55, 66]\n",
    "\n",
    "while True:\n",
    "    try:\n",
    "        index = int(input(f\"Ingrese un índice (0 a {len(lista) - 1}): \"))\n",
    "        print(f\"El elemento {index} de la lista es {lista[index]}\")\n",
    "        break\n",
    "    except IndexError:\n",
    "        print(\"Índice fuera del rango. Intenta nuevamente.\")\n",
    "    except ValueError:\n",
    "        print(\"Entrada no válida. Debes ingresar un número entero.\")"
   ]
  },
  {
   "cell_type": "markdown",
   "id": "d4eca30b",
   "metadata": {},
   "source": [
    "## Conversión de texto a flotante\n",
    "Crea una función que convierta un string a número flotante y devuelva 0.0 si hay error."
   ]
  },
  {
   "cell_type": "code",
   "execution_count": 32,
   "id": "b840bf8a",
   "metadata": {},
   "outputs": [
    {
     "name": "stdout",
     "output_type": "stream",
     "text": [
      "0.0\n",
      "1.0\n"
     ]
    }
   ],
   "source": [
    "def to_string(string):\n",
    "    try:\n",
    "        return float(string)\n",
    "    except ValueError:\n",
    "        return 0.0\n",
    "\n",
    "print(to_string(\"t\"))\n",
    "print(to_string(\"1\"))\n",
    "\n"
   ]
  },
  {
   "cell_type": "markdown",
   "id": "67e39934",
   "metadata": {},
   "source": [
    "## Lectura de archivo inexistente\n",
    "Intenta abrir un archivo que no existe. Captura el error y muestra un mensaje como: \"El archivo no se encuentra\"."
   ]
  },
  {
   "cell_type": "code",
   "execution_count": 33,
   "id": "2ba60120",
   "metadata": {},
   "outputs": [
    {
     "name": "stdout",
     "output_type": "stream",
     "text": [
      "El archivo no se encuentra\n"
     ]
    }
   ],
   "source": [
    "try:\n",
    "    archivo = open(\"datos.txt\", \"r\")\n",
    "    contenido = archivo.read()\n",
    "except FileNotFoundError:\n",
    "    print(\"El archivo no se encuentra\")"
   ]
  },
  {
   "cell_type": "markdown",
   "id": "8dd34c2a",
   "metadata": {},
   "source": [
    "## 6. Manejo completo con `else` y `finally`\n",
    "Escribe una función que:\n",
    "* Reciba dos números y divida uno por otro.\n",
    "* Use `try`, `except`, `else`, y `finally`.\n",
    "* Muestre si hubo error o no y que el bloque `finally` se ejecutó."
   ]
  },
  {
   "cell_type": "code",
   "execution_count": null,
   "id": "bec38f11",
   "metadata": {},
   "outputs": [
    {
     "name": "stdout",
     "output_type": "stream",
     "text": [
      "El resultado es 0.5\n",
      "Operacipón válida con los números 1 y 2\n",
      "Ejecución terminada\n",
      "\n",
      "Error, división por zero\n",
      "Ejecución terminada\n"
     ]
    }
   ],
   "source": [
    "def division_dos_numeros(a,b):\n",
    "    try:\n",
    "        print(f\"El resultado es {a/b}\")\n",
    "    except ZeroDivisionError:\n",
    "        print(\"Error, división por zero\")\n",
    "    else:\n",
    "        print(f\"Operación válida con los números {a} y {b}\")\n",
    "    finally:\n",
    "        print(\"Ejecución terminada\")\n",
    "\n",
    "division_dos_numeros(1,2)\n",
    "print()\n",
    "division_dos_numeros(1,0)"
   ]
  },
  {
   "cell_type": "markdown",
   "id": "e0ede0e6",
   "metadata": {},
   "source": [
    "## 7. Validador de entrada con reintento limitado\n",
    "Permite al usuario ingresar un número hasta 3 intentos. Si falla, lanza una excepción general con un mensaje personalizado."
   ]
  },
  {
   "cell_type": "code",
   "execution_count": 1,
   "id": "d845c6c5",
   "metadata": {},
   "outputs": [
    {
     "name": "stdout",
     "output_type": "stream",
     "text": [
      "Número ingresado: 1.0\n"
     ]
    },
    {
     "data": {
      "text/plain": [
       "1.0"
      ]
     },
     "execution_count": 1,
     "metadata": {},
     "output_type": "execute_result"
    }
   ],
   "source": [
    "def pedir_numero():\n",
    "    intentos = 0\n",
    "    while intentos < 3:\n",
    "        try:\n",
    "            numero = float(input(\"Ingresa un número: \"))\n",
    "            print(f\"Número ingresado: {numero}\")\n",
    "            return numero\n",
    "        except ValueError:\n",
    "            intentos += 1\n",
    "            print(f\"Entrada no válida. Intento {intentos} de 3.\")\n",
    "    \n",
    "    raise Exception(\"Demasiados intentos fallidos. No se pudo obtener un número válido.\")\n",
    "\n",
    "pedir_numero()"
   ]
  },
  {
   "cell_type": "markdown",
   "id": "5b5a015b",
   "metadata": {},
   "source": [
    "## Validar archivo con `finally`\n",
    "Crea un programa que abra un archivo, lea su contenido y lo imprima. Asegúrate de cerrarlo correctamente, incluso si ocurre un error."
   ]
  },
  {
   "cell_type": "code",
   "execution_count": 5,
   "id": "dd82b137",
   "metadata": {},
   "outputs": [
    {
     "name": "stdout",
     "output_type": "stream",
     "text": [
      "Contenido del archivo:\n",
      "line 1\n",
      "line 2\n",
      "line 3\n",
      "Archivo cerrado correctamente (finally).\n"
     ]
    }
   ],
   "source": [
    "def leer_archivo(nombre_archivo):\n",
    "    archivo = None\n",
    "    try:\n",
    "        archivo = open(nombre_archivo, \"r\")\n",
    "        contenido = archivo.read()\n",
    "        print(\"Contenido del archivo:\")\n",
    "        print(contenido)\n",
    "    except FileNotFoundError:\n",
    "        print(f\"Error: el archivo '{nombre_archivo}' no se encuentra.\")\n",
    "    except Exception as e:\n",
    "        print(\"Ocurrió un error inesperado:\", e)\n",
    "    finally:\n",
    "        if archivo:\n",
    "            archivo.close()\n",
    "            print(\"Archivo cerrado correctamente (finally).\")\n",
    "leer_archivo('test.txt')\n"
   ]
  },
  {
   "cell_type": "markdown",
   "id": "ecdb831b",
   "metadata": {},
   "source": [
    "## 9. Multiples errores posibles\n",
    "Pide dos entradas: un número y un índice. Luego accede a una lista con ese índice y divide por el número. Maneja:\n",
    "* `ZeroDivisionError`\n",
    "* `ValueError`\n",
    "* `IndexError`"
   ]
  },
  {
   "cell_type": "code",
   "execution_count": null,
   "id": "46a3d712",
   "metadata": {},
   "outputs": [
    {
     "name": "stdout",
     "output_type": "stream",
     "text": [
      "Resultado: 30/2.0 = 15.0\n"
     ]
    }
   ],
   "source": [
    "def operar_con_lista():\n",
    "    lista = [10, 20, 30, 40, 50]\n",
    "\n",
    "    try:\n",
    "        numero = float(input(\"Ingresa un número para dividir: \"))\n",
    "        indice = int(input(f\"Ingrese un índice (0 a {len(lista)-1}): \"))\n",
    "        resultado = lista[indice] / numero\n",
    "        print(f\"Resultado: {lista[indice]}/{numero} = {resultado}\")\n",
    "\n",
    "    except ZeroDivisionError:\n",
    "        print(\"Error: no se puede dividir por cero.\")\n",
    "    except ValueError:\n",
    "        print(\"Error: entrada inválida. Debes ingresar números.\")\n",
    "    except IndexError:\n",
    "        print(f\"Error: el índice está fuera del rango permitido (0 a {len(lista)-1}).\")\n",
    "\n",
    "operar_con_lista()\n"
   ]
  },
  {
   "cell_type": "markdown",
   "id": "fe6c7d58",
   "metadata": {},
   "source": [
    "## 10. Registro de errores en archivo con `logging`\n",
    "Implementa un sistema de entrada  de datos que escriba errores automáticamente en un archivo errores.log."
   ]
  },
  {
   "cell_type": "code",
   "execution_count": 12,
   "id": "64127e45",
   "metadata": {},
   "outputs": [
    {
     "name": "stdout",
     "output_type": "stream",
     "text": [
      "Número ingresado: 2.0\n"
     ]
    }
   ],
   "source": [
    "import logging\n",
    "\n",
    "logging.basicConfig(\n",
    "    filename='errores.log',\n",
    "    level=logging.ERROR,\n",
    "    format='%(asctime)s - %(levelname)s - %(message)s'\n",
    ")\n",
    "\n",
    "def pedir_numero():\n",
    "    try:\n",
    "        numero = float(input(\"Ingresa un número: \"))\n",
    "        print(f\"Número ingresado: {numero}\")\n",
    "    except ValueError as e:\n",
    "        print(\"Error: entrada inválida.\")\n",
    "        logging.error(\"Error de conversión a float: %s\", e)\n",
    "\n",
    "pedir_numero()\n",
    "\n",
    "# Entrada 'f'\n",
    "# Salida: Error: entrada inválida.\n",
    "# Salida al fichero errores.log\n",
    "# 2025-07-14 16:31:04,673 - ERROR - Error de conversión a float: could not convert string to float: 'f'\n"
   ]
  },
  {
   "cell_type": "markdown",
   "id": "9f63725a",
   "metadata": {},
   "source": [
    "## 11. Excepción personalizada: `EdadInvalidaError`\n",
    "Crea una excepción personalizada para edades menores a 0. Si el usuario ingresa una edad negativa, lanza la excepción."
   ]
  },
  {
   "cell_type": "markdown",
   "id": "8b32fcc4",
   "metadata": {},
   "source": []
  },
  {
   "cell_type": "code",
   "execution_count": 15,
   "id": "a902520f",
   "metadata": {},
   "outputs": [
    {
     "name": "stdout",
     "output_type": "stream",
     "text": [
      "Error personalizado: La edad no puede ser negativa.\n"
     ]
    }
   ],
   "source": [
    "class EdadInvalidaError(Exception):\n",
    "    \"\"\"Excepción personalizada para edades menores a 0.\"\"\"\n",
    "    pass\n",
    "\n",
    "def pedir_edad():\n",
    "    try:\n",
    "        edad = int(input(\"Ingresa tu edad: \"))\n",
    "        if edad < 0:\n",
    "            raise EdadInvalidaError(\"La edad no puede ser negativa.\")\n",
    "        print(f\"Edad: {edad} años\")\n",
    "    except ValueError:\n",
    "        print(\"Error: debes ingresar un número entero.\")\n",
    "    except EdadInvalidaError as e:\n",
    "        print(\"Error personalizado:\", e)\n",
    "    \n",
    "pedir_edad()\n",
    "\n"
   ]
  },
  {
   "cell_type": "code",
   "execution_count": 16,
   "id": "82e64d93",
   "metadata": {},
   "outputs": [],
   "source": [
    "class EdadInvalidaError(Exception):\n",
    "    def __init__(self, edad):\n",
    "        super().__init__(f\"Edad inválida: {edad}. La edad no puede ser negativa.\")\n",
    "        self.edad = edad\n",
    "\n",
    "edad = int(input(\"Edad: \"))\n",
    "if edad < 0:\n",
    "    raise EdadInvalidaError(edad)"
   ]
  },
  {
   "cell_type": "markdown",
   "id": "2e1425ce",
   "metadata": {},
   "source": [
    "## 12. Decorador con manejo de errores\n",
    "Crea un decorador que envuelva cualquier función y capture errores, imprimiendo un mensaje del tipo: \"Error en la función: \\<nombre\\>\"."
   ]
  },
  {
   "cell_type": "code",
   "execution_count": 21,
   "id": "8da0114f",
   "metadata": {},
   "outputs": [
    {
     "name": "stdout",
     "output_type": "stream",
     "text": [
      "5.0\n",
      "\n",
      "Error en la función: dividir\n",
      "Detalle: division by zero\n",
      "None\n",
      "\n",
      "Error en la función: convertir_entero\n",
      "Detalle: invalid literal for int() with base 10: 'abc'\n",
      "None\n"
     ]
    }
   ],
   "source": [
    "def manejar_errores(func):\n",
    "    def wrapper(*args, **kwargs):\n",
    "        try:\n",
    "            return func(*args, **kwargs)\n",
    "        except Exception as e:\n",
    "            print(f\"Error en la función: {func.__name__}\")\n",
    "            print(f\"Detalle: {e}\")\n",
    "    return wrapper\n",
    "\n",
    "@manejar_errores\n",
    "def dividir(a, b):\n",
    "    return a / b\n",
    "\n",
    "@manejar_errores\n",
    "def convertir_entero(cadena):\n",
    "    return int(cadena)\n",
    "\n",
    "print(dividir(10, 2))     # Resultado correcto\n",
    "print()\n",
    "print(dividir(10, 0))     # División por cero\n",
    "print()\n",
    "print(convertir_entero(\"abc\"))  # No se puede convertir\n",
    "\n"
   ]
  },
  {
   "cell_type": "markdown",
   "id": "83acec20",
   "metadata": {},
   "source": [
    "## 13. Context Manager de archivo con validación\n",
    "Implementa un context manager que:\n",
    "* Abre un archivo\n",
    "* Cierra el archivo incluso si ocurre una excepción\n",
    "* Imprime un mensaje si el archivo no se pudo abrir"
   ]
  },
  {
   "cell_type": "code",
   "execution_count": 28,
   "id": "62e318ae",
   "metadata": {},
   "outputs": [
    {
     "name": "stdout",
     "output_type": "stream",
     "text": [
      "line 1\n",
      "line 2\n",
      "line 3\n",
      "Archivo cerrado correctamente.\n"
     ]
    }
   ],
   "source": [
    "class GestorArchivoSeguro:\n",
    "    def __init__(self, nombre_archivo, modo='r'):\n",
    "        # Guardamos el nombre del archivo y el modo de apertura (por defecto, solo lectura)\n",
    "        self.nombre_archivo = nombre_archivo\n",
    "        self.modo = modo\n",
    "        self.archivo = None  # Inicializamos la variable archivo\n",
    "\n",
    "    def __enter__(self):\n",
    "        # Este método se ejecuta al entrar en el bloque \"with\"\n",
    "        try:\n",
    "            # Intentamos abrir el archivo\n",
    "            self.archivo = open(self.nombre_archivo, self.modo)\n",
    "            return self.archivo  # Si se abre correctamente, lo devolvemos\n",
    "        except FileNotFoundError:\n",
    "            # Si no se puede abrir, mostramos un mensaje y devolvemos None\n",
    "            print(f\"No se pudo abrir el archivo: {self.nombre_archivo}\")\n",
    "            return None\n",
    "\n",
    "    def __exit__(self, tipo_excepcion, valor, traza):\n",
    "        # Este método se ejecuta al salir del bloque \"with\", con o sin errores\n",
    "\n",
    "        # Si el archivo se abrió correctamente, lo cerramos\n",
    "        if self.archivo:\n",
    "            self.archivo.close()\n",
    "            print(\"Archivo cerrado correctamente.\")\n",
    "\n",
    "        # Si hubo alguna excepción, mostramos el mensaje de error\n",
    "        if tipo_excepcion:\n",
    "            print(f\"Ocurrió una excepción: {valor}\")\n",
    "\n",
    "        # Si devolvemos False, la excepción (si existe) se propagará.\n",
    "        # Si devolviéramos True, se \"ocultaría\".\n",
    "        return False\n",
    "    \n",
    "# Usamos el context manager personalizado\n",
    "with GestorArchivoSeguro(\"test.txt\") as f:\n",
    "    # Si se abrió correctamente, f no será None\n",
    "    if f:\n",
    "        contenido = f.read()\n",
    "        print(contenido)\n",
    "\n"
   ]
  },
  {
   "cell_type": "markdown",
   "id": "37c16f78",
   "metadata": {},
   "source": [
    "## 14. Sistema bancario con excepción de saldo insuficiente\n",
    "Define una clase `SaldoInsuficienteError`. Simula una cuenta que lanza esta excepción si se intenta retirar más dinero del disponible."
   ]
  },
  {
   "cell_type": "code",
   "execution_count": 29,
   "id": "9c8e58a8",
   "metadata": {},
   "outputs": [
    {
     "name": "stdout",
     "output_type": "stream",
     "text": [
      "Depósito exitoso. Nuevo saldo: 1500\n",
      "Retiro exitoso. Nuevo saldo: 1300\n",
      "Error: Saldo insuficiente: intentaste retirar 2000, pero solo hay 1300 disponible.\n"
     ]
    }
   ],
   "source": [
    "class SaldoInsuficienteError(Exception):\n",
    "    \"\"\"Excepción personalizada para indicar saldo insuficiente en una cuenta.\"\"\"\n",
    "    def __init__(self, saldo_disponible, monto_retiro):\n",
    "        mensaje = (f\"Saldo insuficiente: intentaste retirar {monto_retiro}, \"\n",
    "                   f\"pero solo hay {saldo_disponible} disponible.\")\n",
    "        super().__init__(mensaje)\n",
    "        self.saldo = saldo_disponible\n",
    "        self.retiro = monto_retiro\n",
    "\n",
    "class CuentaBancaria:\n",
    "    def __init__(self, titular, saldo_inicial=0):\n",
    "        self.titular = titular\n",
    "        self.saldo = saldo_inicial\n",
    "\n",
    "    def depositar(self, monto):\n",
    "        self.saldo += monto\n",
    "        print(f\"Depósito exitoso. Nuevo saldo: {self.saldo}\")\n",
    "\n",
    "    def retirar(self, monto):\n",
    "        if monto > self.saldo:\n",
    "            # Lanzamos la excepción personalizada\n",
    "            raise SaldoInsuficienteError(self.saldo, monto)\n",
    "        self.saldo -= monto\n",
    "        print(f\"Retiro exitoso. Nuevo saldo: {self.saldo}\")\n",
    "\n",
    "# Crear una cuenta con saldo inicial\n",
    "cuenta = CuentaBancaria(\"Orlando\", saldo_inicial=1000)\n",
    "\n",
    "# Depositar dinero\n",
    "cuenta.depositar(500)   # Saldo: 1500\n",
    "\n",
    "# Retiro válido\n",
    "cuenta.retirar(200)     # Saldo: 1300\n",
    "\n",
    "# Retiro inválido\n",
    "try:\n",
    "    cuenta.retirar(2000)  # Esto lanza la excepción\n",
    "except SaldoInsuficienteError as e:\n",
    "    print(\"Error:\", e)\n"
   ]
  },
  {
   "cell_type": "markdown",
   "id": "8f89422e",
   "metadata": {},
   "source": [
    "## 15. Re-raising de error con trazabilidad\n",
    "Captura un error dentro de una función, realiza un registro con `logging`, y luego vuelve a lanzar el error para que lo capture otro bloque más externo."
   ]
  },
  {
   "cell_type": "code",
   "execution_count": 34,
   "id": "9c763be0",
   "metadata": {},
   "outputs": [],
   "source": [
    "import logging\n",
    "\n",
    "# Configuración básica de logging\n",
    "logging.basicConfig(\n",
    "    filename='errores.log',\n",
    "    level=logging.ERROR,\n",
    "    format='%(asctime)s - %(levelname)s - %(message)s'\n",
    ")\n",
    "\n",
    "def procesar_dato(dato):\n",
    "    try:\n",
    "        numero = int(dato)\n",
    "        print(f\"Número procesado: {numero}\")\n",
    "        return numero\n",
    "    except ValueError as e:\n",
    "        logging.error(\"Error al convertir dato a entero: %s\", e)\n",
    "#        raise  # ← Re-lanzamos la excepción para que sea manejada externamente\n",
    "\n",
    "try:\n",
    "    procesar_dato(\"abc\")  # Esto causará ValueError\n",
    "except ValueError as e:\n",
    "    print(\"Error capturado externamente:\", e)"
   ]
  },
  {
   "cell_type": "code",
   "execution_count": null,
   "id": "5fee289a",
   "metadata": {},
   "outputs": [],
   "source": []
  }
 ],
 "metadata": {
  "kernelspec": {
   "display_name": "base",
   "language": "python",
   "name": "python3"
  },
  "language_info": {
   "codemirror_mode": {
    "name": "ipython",
    "version": 3
   },
   "file_extension": ".py",
   "mimetype": "text/x-python",
   "name": "python",
   "nbconvert_exporter": "python",
   "pygments_lexer": "ipython3",
   "version": "3.12.8"
  }
 },
 "nbformat": 4,
 "nbformat_minor": 5
}
