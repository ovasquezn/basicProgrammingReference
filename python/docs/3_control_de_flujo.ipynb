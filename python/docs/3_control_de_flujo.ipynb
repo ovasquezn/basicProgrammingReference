{
 "cells": [
  {
   "cell_type": "markdown",
   "id": "39cce397",
   "metadata": {},
   "source": [
    "# Control de flujo\n",
    "## Número positivo o negativo\n",
    "Escribe un programa que reciba un número y diga si es positivo, negativo o cero."
   ]
  },
  {
   "cell_type": "code",
   "execution_count": 3,
   "id": "f9d2cebc",
   "metadata": {},
   "outputs": [
    {
     "name": "stdout",
     "output_type": "stream",
     "text": [
      "El número es negativo\n"
     ]
    }
   ],
   "source": [
    "value = int(input(\"Ingresa un número\"))\n",
    "\n",
    "if value > 0:\n",
    "\tprint(\"El número es positivo\")\n",
    "elif value < 0:\n",
    "\tprint(\"El número es negativo\")\n",
    "else:\n",
    "\tprint(\"El número es cero\")"
   ]
  },
  {
   "cell_type": "markdown",
   "id": "bd7808e3",
   "metadata": {},
   "source": [
    "## Imprimir números del 1 al 10\n",
    "Usa un bucle for y un bucle while para imprimir los números del 1 al 10."
   ]
  },
  {
   "cell_type": "code",
   "execution_count": 5,
   "id": "6bc3449d",
   "metadata": {},
   "outputs": [
    {
     "name": "stdout",
     "output_type": "stream",
     "text": [
      "1 2 3 4 5 6 7 8 9 10 "
     ]
    }
   ],
   "source": [
    "def bucle_de_numeros(n):\n",
    "    for n in range(1, n + 1):\n",
    "        print(n, end=' ')\n",
    "\n",
    "bucle_de_numeros(10)"
   ]
  },
  {
   "cell_type": "markdown",
   "id": "ab6e707d",
   "metadata": {},
   "source": [
    "## Contador de letras\n",
    "Pide una palabra al usuario e imprime cuántas letras tiene."
   ]
  },
  {
   "cell_type": "code",
   "execution_count": null,
   "id": "a896a11b",
   "metadata": {},
   "outputs": [
    {
     "data": {
      "text/plain": [
       "4"
      ]
     },
     "execution_count": 7,
     "metadata": {},
     "output_type": "execute_result"
    }
   ],
   "source": [
    "string = input(\"\\nIngresa una cadena de texto: \")\n",
    "def contar_letras(string):\n",
    "    counter = 0\n",
    "    for char in string:\n",
    "        if char.isalpha():\n",
    "            counter += 1\n",
    "    return counter\n",
    "contar_letras(string)"
   ]
  },
  {
   "cell_type": "markdown",
   "id": "0bdf3c42",
   "metadata": {},
   "source": [
    "## Suma de los primeros N números\n",
    "Pide al usuario un número N y muestra la suma de los primeros N enteros positivos."
   ]
  },
  {
   "cell_type": "code",
   "execution_count": null,
   "id": "08ea6c74",
   "metadata": {},
   "outputs": [
    {
     "name": "stdout",
     "output_type": "stream",
     "text": [
      "La suma de los 5 primeros números enteros positivos es 15\n"
     ]
    }
   ],
   "source": [
    "n = int(input(\"Ingrese un número\"))\n",
    "result = 0\n",
    "for i in range(1,n+1):\n",
    "    result += i\n",
    "print(f\"La suma de los {n} primeros números enteros positivos es {result}\")\n"
   ]
  },
  {
   "cell_type": "markdown",
   "id": "c13102aa",
   "metadata": {},
   "source": [
    "## Tabla de multiplicar\n",
    "Imprime la tabla de multiplicar del 5 usando un bucle for."
   ]
  },
  {
   "cell_type": "code",
   "execution_count": 12,
   "id": "34433769",
   "metadata": {},
   "outputs": [
    {
     "name": "stdout",
     "output_type": "stream",
     "text": [
      "Tabla de multiplicar del 5\n",
      "    1 x 5 = 5\n",
      "    2 x 5 = 10\n",
      "    3 x 5 = 15\n",
      "    4 x 5 = 20\n",
      "    5 x 5 = 25\n",
      "    6 x 5 = 30\n",
      "    7 x 5 = 35\n",
      "    8 x 5 = 40\n",
      "    9 x 5 = 45\n",
      "    10 x 5 = 50\n"
     ]
    }
   ],
   "source": [
    "n = 5\n",
    "print(f\"Tabla de multiplicar del {n}\")\n",
    "for i in range(1,11):\n",
    "    print(f\"    {i} x {n} = {i*n}\")"
   ]
  },
  {
   "cell_type": "markdown",
   "id": "9479deb3",
   "metadata": {},
   "source": [
    "## Encontrar el número mayor\n",
    "Pide al usuario tres números y muestra cuál es el mayor (sin usar max())."
   ]
  },
  {
   "cell_type": "code",
   "execution_count": 15,
   "id": "e9dc5206",
   "metadata": {},
   "outputs": [
    {
     "name": "stdout",
     "output_type": "stream",
     "text": [
      "El número máximo es: 8\n"
     ]
    }
   ],
   "source": [
    "a, b, c = map(int, input(\"Ingresa tres números separados por espacios: \").split())\n",
    "def maximo(a, b, c):\n",
    "    if a >= b and a >= c:\n",
    "        return a\n",
    "    elif b >= a and b >= c:\n",
    "        return b\n",
    "    else:\n",
    "        return c\n",
    "print(f\"El número máximo es: {maximo(a, b, c)}\")"
   ]
  },
  {
   "cell_type": "markdown",
   "id": "ad80ed64",
   "metadata": {},
   "source": [
    "## Contar elementos pares\n",
    "Dada una lista de números, cuenta cuántos son pares usando un bucle for."
   ]
  },
  {
   "cell_type": "code",
   "execution_count": 19,
   "id": "63e9d578",
   "metadata": {},
   "outputs": [
    {
     "name": "stdout",
     "output_type": "stream",
     "text": [
      "La cantida de pares en la lista es: 5\n"
     ]
    }
   ],
   "source": [
    "lista = [1, 2, 3, 4, 5,4,6,7,8]\n",
    "\n",
    "def pares_en_lista(lista):\n",
    "    counter = 0\n",
    "    for num in lista:\n",
    "        if num%2 == 0:\n",
    "            counter += 1\n",
    "    return counter\n",
    "\n",
    "print(f\"La cantida de pares en la lista es: {pares_en_lista(lista)}\")"
   ]
  },
  {
   "cell_type": "markdown",
   "id": "46598610",
   "metadata": {},
   "source": [
    "## Validar contraseña\n",
    "Pide al usuario una contraseña hasta que ingrese una correcta (\"1234\"). Usa un bucle while."
   ]
  },
  {
   "cell_type": "code",
   "execution_count": 20,
   "id": "5bdd7fce",
   "metadata": {},
   "outputs": [
    {
     "name": "stdout",
     "output_type": "stream",
     "text": [
      "Contraseña incorrecta, intenta de nuevo\n",
      "Contraseña incorrecta, intenta de nuevo\n",
      "Contraseña incorrecta, intenta de nuevo\n",
      "Contraseña incorrecta, intenta de nuevo\n",
      "Contraseña incorrecta, intenta de nuevo\n",
      "Contraseña incorrecta, intenta de nuevo\n",
      "Contraseña correcta\n"
     ]
    }
   ],
   "source": [
    "while True:\n",
    "    try_pass = input(\"Ingresa una contraseña: \")\n",
    "    password = \"1234\"\n",
    "    if try_pass == password:\n",
    "        print(\"Contraseña correcta\")\n",
    "        break\n",
    "    else:\n",
    "        print(\"Contraseña incorrecta, intenta de nuevo\")\n",
    "        continue"
   ]
  },
  {
   "cell_type": "markdown",
   "id": "03948a45",
   "metadata": {},
   "source": [
    "## Imprimir valores e índices\n",
    "Dada una lista de nombres, imprímelos junto a su posición usando enumerate()."
   ]
  },
  {
   "cell_type": "code",
   "execution_count": 23,
   "id": "ce139f9d",
   "metadata": {},
   "outputs": [
    {
     "name": "stdout",
     "output_type": "stream",
     "text": [
      "Nombre 0: Alice\n",
      "Nombre 1: Bob\n",
      "Nombre 2: Charlie\n",
      "Nombre 3: David\n"
     ]
    }
   ],
   "source": [
    "names = [\"Alice\", \"Bob\", \"Charlie\", \"David\"]\n",
    "\n",
    "def imprimir_nombres(names):\n",
    "    for index, name in enumerate(names):\n",
    "        print(f\"Nombre {index}: {name}\")\n",
    "\n",
    "imprimir_nombres(names)\n"
   ]
  },
  {
   "cell_type": "markdown",
   "id": "2f466831",
   "metadata": {},
   "source": [
    "## Fusionar listas\n",
    "Dadas dos listas (nombres, edades), imprímelas como \"Ana tiene 25 años\" usando zip()."
   ]
  },
  {
   "cell_type": "code",
   "execution_count": 27,
   "id": "1cc5f142",
   "metadata": {},
   "outputs": [
    {
     "name": "stdout",
     "output_type": "stream",
     "text": [
      "Nombres y edades concatenados:\n",
      "Ana tiene 25 años\n"
     ]
    }
   ],
   "source": [
    "nombres = [\"Ana\"]\n",
    "edades = [25]\n",
    "\n",
    "cancatenados = list(zip(nombres, edades))\n",
    "print(\"Nombres y edades concatenados:\")\n",
    "for nombre, edad in cancatenados:\n",
    "    print(f\"{nombre} tiene {edad} años\")"
   ]
  },
  {
   "cell_type": "markdown",
   "id": "3328476b",
   "metadata": {},
   "source": [
    "## Verificador de palíndromos\n",
    "Escribe una función que determine si una palabra es un palíndromo (se lee igual al revés)."
   ]
  },
  {
   "cell_type": "code",
   "execution_count": 29,
   "id": "51e818f7",
   "metadata": {},
   "outputs": [
    {
     "name": "stdout",
     "output_type": "stream",
     "text": [
      "La palabra HOOH ES palíndromo\n"
     ]
    }
   ],
   "source": [
    "string = \"HOOH\"\n",
    "\n",
    "if string == string[::-1]:\n",
    "    print(f\"La palabra {string} ES palíndromo\")\n",
    "else:\n",
    "    print(f\"La palabra {string} NO ES palíndromo\")\n"
   ]
  },
  {
   "cell_type": "markdown",
   "id": "27abd0f9",
   "metadata": {},
   "source": [
    "##Buscador en matriz ✅✅✅\n",
    "Dada una matriz (lista de listas), busca un valor ingresado por el usuario e indica su posición (fila, columna). Usa for anidados.\n",
    "\n"
   ]
  },
  {
   "cell_type": "code",
   "execution_count": 49,
   "id": "dfa235b6",
   "metadata": {},
   "outputs": [
    {
     "name": "stdout",
     "output_type": "stream",
     "text": [
      "Buscando el valor en la matriz...\n",
      "El valor esta en la posición 2 1\n"
     ]
    }
   ],
   "source": [
    "value = 21\n",
    "\n",
    "matriz = [[11,12,13],[21,22,23],[31,32,33]]\n",
    "\n",
    "result = False\n",
    "print(\"Buscando el valor en la matriz...\")\n",
    "for i in range(len(matriz)):\n",
    "    for j in range(len(matriz[0])):\n",
    "        if matriz[i][j] == value:\n",
    "            print(f\"El valor esta en la posición {i+1} {j+1}\")\n",
    "            result = True\n",
    "            break\n",
    "if not result:\n",
    "    print(\"Valor no encontrado.\")\n"
   ]
  },
  {
   "cell_type": "code",
   "execution_count": 42,
   "id": "fde60512",
   "metadata": {},
   "outputs": [
    {
     "name": "stdout",
     "output_type": "stream",
     "text": [
      "3\n",
      "3\n"
     ]
    }
   ],
   "source": [
    "matriz = [[11,12,13],[21,22,23],[31,32,33]]\n",
    "\n",
    "print(len(matriz))  # Número de filas\n",
    "print(len(matriz[0]))  # Número de columnas"
   ]
  },
  {
   "cell_type": "code",
   "execution_count": null,
   "id": "6bd7fa0d",
   "metadata": {},
   "outputs": [],
   "source": []
  }
 ],
 "metadata": {
  "kernelspec": {
   "display_name": "base",
   "language": "python",
   "name": "python3"
  },
  "language_info": {
   "codemirror_mode": {
    "name": "ipython",
    "version": 3
   },
   "file_extension": ".py",
   "mimetype": "text/x-python",
   "name": "python",
   "nbconvert_exporter": "python",
   "pygments_lexer": "ipython3",
   "version": "3.12.8"
  }
 },
 "nbformat": 4,
 "nbformat_minor": 5
}
