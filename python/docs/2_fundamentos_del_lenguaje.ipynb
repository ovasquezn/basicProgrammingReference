{
 "cells": [
  {
   "cell_type": "markdown",
   "id": "702bd214",
   "metadata": {},
   "source": [
    "# Notebook de apuntes - Python: Capítulo 2 - Fundamentos del lenguaje\n",
    "## Ejercicio 1\n",
    "### Suma simple con entrada de usuario\n",
    "Escribe un programa que pida dos números por consola y muestre su suma."
   ]
  },
  {
   "cell_type": "code",
   "execution_count": null,
   "id": "aa798c22",
   "metadata": {},
   "outputs": [
    {
     "name": "stdout",
     "output_type": "stream",
     "text": [
      "El resultado de la suma es: 11\n"
     ]
    }
   ],
   "source": [
    "# Input\n",
    "# 5 6\n",
    "a, b = map(int,input().split())\n",
    "print(f'El resultado de la suma es: {a+b}')"
   ]
  },
  {
   "cell_type": "markdown",
   "id": "18f25dcd",
   "metadata": {},
   "source": [
    "## Ejercicio 2\n",
    "### Tipo de dato\n",
    "Escribe una función que reciba cualquier dato y devuelva su tipo usando type()."
   ]
  },
  {
   "cell_type": "code",
   "execution_count": 13,
   "id": "dee60396",
   "metadata": {},
   "outputs": [
    {
     "name": "stdout",
     "output_type": "stream",
     "text": [
      "El tipo de valor es: int\n",
      "El tipo de valor es: bool\n",
      "El tipo de valor es: str\n",
      "El tipo de valor es: list\n"
     ]
    }
   ],
   "source": [
    "def type_of_data(value):\n",
    "    return f'El tipo de valor es: {type(value).__name__}'\n",
    "\n",
    "\n",
    "print(type_of_data(8))\n",
    "print(type_of_data(True))\n",
    "print(type_of_data('Test'))\n",
    "print(type_of_data([1,2,3]))"
   ]
  },
  {
   "cell_type": "markdown",
   "id": "e67283f6",
   "metadata": {},
   "source": [
    "## Ejercicio 3\n",
    "### Contar vocales en una cadena\n",
    "Crea una función que reciba una cadena y cuente cuántas vocales contiene (minúsculas y mayúsculas)."
   ]
  },
  {
   "cell_type": "code",
   "execution_count": 12,
   "id": "74dca587",
   "metadata": {},
   "outputs": [
    {
     "name": "stdout",
     "output_type": "stream",
     "text": [
      "7\n"
     ]
    }
   ],
   "source": [
    "def vowels_counts(string):\n",
    "    vowels = 'aeiou'\n",
    "    counter=0\n",
    "    for char in string.lower():\n",
    "        if char in vowels:\n",
    "            counter+=1\n",
    "    return counter\n",
    "\n",
    "print(vowels_counts(\"Esto es un ejemplo\"))"
   ]
  },
  {
   "cell_type": "markdown",
   "id": "9ed284a5",
   "metadata": {},
   "source": [
    "## Ejercicio 4\n",
    "### Conversión de temperatura\n",
    "Pide al usuario una temperatura en Celsius y conviértela a Fahrenheit usando la fórmula:\n",
    "$F = C × 9/5 + 32$"
   ]
  },
  {
   "cell_type": "code",
   "execution_count": 15,
   "id": "2786f09f",
   "metadata": {},
   "outputs": [
    {
     "name": "stdout",
     "output_type": "stream",
     "text": [
      "La temperatura en Ferenheit es 149.0\n"
     ]
    }
   ],
   "source": [
    "value = int(input(\"Ingresa un valor de Temperatura en Celcius\"))\n",
    "\n",
    "def temp_to_F(celcius_temp):\n",
    "    return 32+celcius_temp*9/5\n",
    "\n",
    "print(f'La temperatura en Ferenheit es {temp_to_F(value)}')"
   ]
  },
  {
   "cell_type": "code",
   "execution_count": 16,
   "id": "8c800236",
   "metadata": {},
   "outputs": [
    {
     "name": "stdout",
     "output_type": "stream",
     "text": [
      "Hola Orlando, entonces tu edad es 36, te deseamos un cordial saludo\n"
     ]
    }
   ],
   "source": [
    "name = input(\"Ingresa tu nombre\")\n",
    "edad = int(input(\"Ingresa tu edad\"))\n",
    "\n",
    "print(f'Hola {name}, entonces tu edad es {edad}, te deseamos un cordial saludo')"
   ]
  },
  {
   "cell_type": "markdown",
   "id": "9bd6b1fd",
   "metadata": {},
   "source": [
    "# Intermedio\n",
    "## Ejercicio 1\n",
    "### Estadísticas de una lista\n",
    "Crea una lista de números e imprime:\n",
    "* El número mayor (`max()`)\n",
    "* El menor (`min()`)\n",
    "* El promedio (`sum()/len()`)"
   ]
  },
  {
   "cell_type": "code",
   "execution_count": 18,
   "id": "1faacc14",
   "metadata": {},
   "outputs": [
    {
     "name": "stdout",
     "output_type": "stream",
     "text": [
      "\n",
      "    Estadisticas de la lista:\n",
      "        Número mayor: 7.0\n",
      "        Número menor: 5.6\n",
      "        Promedio: 6.5\n",
      "    \n"
     ]
    }
   ],
   "source": [
    "def list_stats(lista):\n",
    "    return f\"\"\"\n",
    "    Estadisticas de la lista:\n",
    "        Número mayor: {max(lista)}\n",
    "        Número menor: {min(lista)}\n",
    "        Promedio: {sum(lista)/len(lista)}\n",
    "    \"\"\"\n",
    "\n",
    "print(list_stats([6.8,5.6,7.0,6.6]))"
   ]
  },
  {
   "cell_type": "markdown",
   "id": "7f2f3076",
   "metadata": {},
   "source": [
    "## Ejercicio 2\n",
    "### Lista sin duplicados\n",
    "Escribe una función que reciba una lista y devuelva una nueva lista sin elementos repetidos, manteniendo el orden."
   ]
  },
  {
   "cell_type": "code",
   "execution_count": 1,
   "id": "cf78f439",
   "metadata": {},
   "outputs": [
    {
     "name": "stdout",
     "output_type": "stream",
     "text": [
      "[1, 2, 3, 4, 5, 6, 7, 8, 9, 10]\n"
     ]
    }
   ],
   "source": [
    "def lista_de_elementos_repetidos(lista):\n",
    "    sin_duplicados = []\n",
    "    for elemento in lista:\n",
    "        if elemento not in sin_duplicados:\n",
    "            sin_duplicados.append(elemento)\n",
    "    return sin_duplicados\n",
    "print(lista_de_elementos_repetidos([1,2,3,4,5,6,7,8,9,10,1,2,3,4,5]))"
   ]
  },
  {
   "cell_type": "markdown",
   "id": "c8177c2b",
   "metadata": {},
   "source": [
    "## Ejericicio 2\n",
    "### Diccionario de estudiante\n",
    "Crea un diccionario con información de un estudiante (nombre, edad, promedio). Luego:\n",
    "* Agrega una clave \"estado\" cuyo valor sea `\"aprobado\"` si el promedio ≥ 4.0.\n",
    "* Imprime todas las claves y valores."
   ]
  },
  {
   "cell_type": "code",
   "execution_count": 3,
   "id": "911d9ae2",
   "metadata": {},
   "outputs": [
    {
     "name": "stdout",
     "output_type": "stream",
     "text": [
      "{'nombre': 'Nombre del estudiante', 'edad': 20, 'promedio': 4.0, 'estado': 'aprobado'}\n"
     ]
    }
   ],
   "source": [
    "informacion_de_estudiante = {\n",
    "    'nombre': 'Nombre del estudiante',\n",
    "    'edad': 20,\n",
    "    'promedio': 4.0,\n",
    "}\n",
    "informacion_de_estudiante['estado'] = 'aprobado' if informacion_de_estudiante['promedio'] >= 4.0 else 'reprobado'\n",
    "\n",
    "print(informacion_de_estudiante)"
   ]
  },
  {
   "cell_type": "markdown",
   "id": "a2712f84",
   "metadata": {},
   "source": [
    "## Ejercicio 4\n",
    "### Buscador de palabras\n",
    "Escribe un programa que reciba una lista de palabras y luego pregunte al usuario si una palabra está presente usando in."
   ]
  },
  {
   "cell_type": "code",
   "execution_count": 5,
   "id": "ef0bd462",
   "metadata": {},
   "outputs": [
    {
     "name": "stdout",
     "output_type": "stream",
     "text": [
      "La palabra \"java\" está en la lista.\n"
     ]
    }
   ],
   "source": [
    "def palabra_en_lista(palabras, palabra):\n",
    "    if palabra in palabras:\n",
    "        return f'La palabra \"{palabra}\" está en la lista.'\n",
    "    else:\n",
    "        return f'La palabra \"{palabra}\" no está en la lista.'\n",
    "palabras = ['python', 'java', 'c++', 'javascript']\n",
    "palabra = input(\"Ingresa una palabra para buscar en la lista: \")\n",
    "print(palabra_en_lista(palabras, palabra))"
   ]
  },
  {
   "cell_type": "markdown",
   "id": "0decfa30",
   "metadata": {},
   "source": [
    "## Ejercicio 5\n",
    "## Manejo de errores en división\n",
    "Pide al usuario dos números y muestra el resultado de dividir el primero por el segundo. Maneja posibles errores como entrada inválida y división por cero."
   ]
  },
  {
   "cell_type": "code",
   "execution_count": 7,
   "id": "3ac51a98",
   "metadata": {},
   "outputs": [
    {
     "name": "stdout",
     "output_type": "stream",
     "text": [
      "El resultado de la división es: Error: División por cero no permitida.\n"
     ]
    }
   ],
   "source": [
    "\n",
    "a, b = map(int, input(\"Ingresa dos números separados por espacio: \").split())\n",
    "\n",
    "def division(a, b):\n",
    "    if b == 0:\n",
    "        return \"Error: División por cero no permitida.\"\n",
    "    return a / b\n",
    "print(f'El resultado de la división es: {division(a, b)}')"
   ]
  },
  {
   "cell_type": "markdown",
   "id": "3f76e830",
   "metadata": {},
   "source": [
    "# Desafiante\n",
    "## Ejercicio 1\n",
    "### 1. **Analizador de texto**\n",
    "Dado un párrafo de texto, muestra:\n",
    "* Número total de palabras\n",
    "* Número de oraciones (puntos finales)\n",
    "* Palabra más larga\n",
    "* Cantidad de veces que aparece una palabra específica"
   ]
  },
  {
   "cell_type": "code",
   "execution_count": 9,
   "id": "0c133def",
   "metadata": {},
   "outputs": [
    {
     "name": "stdout",
     "output_type": "stream",
     "text": [
      "\n",
      "    Análisis del texto:\n",
      "        Número de palabras: 15\n",
      "        Número de oraciones: 3\n",
      "        Palabra más larga: oraciones.\n",
      "        Contador de la palabra \"hay\": 2\n",
      "    \n"
     ]
    }
   ],
   "source": [
    "def analizador_de_texto(texto, palabra):\n",
    "    num_palabras = len(texto.split())\n",
    "    num_oracioes = texto.count('.') + texto.count('!') + texto.count('?')\n",
    "    palabra_mas_larga = max(texto.split(), key=len)\n",
    "    contador_palabra_especifica = texto.lower().count(palabra)\n",
    "    return f\"\"\"\n",
    "    Análisis del texto:\n",
    "        Número de palabras: {num_palabras}\n",
    "        Número de oraciones: {num_oracioes}\n",
    "        Palabra más larga: {palabra_mas_larga}\n",
    "        Contador de la palabra \"{palabra}\": {contador_palabra_especifica}\n",
    "    \"\"\"\n",
    "\n",
    "texto = \"Este es un ejemplo de texto. Aquí hay varias oraciones. ¿Cuántas palabras hay en total?\"\n",
    "palabra = \"hay\"\n",
    "print(analizador_de_texto(texto, palabra))"
   ]
  },
  {
   "cell_type": "markdown",
   "id": "4c7f85bd",
   "metadata": {},
   "source": [
    "## Ejercicio 2\n",
    "### Simulador de cesta de compras\n",
    "Crea un diccionario con productos y precios. El usuario debe poder:\n",
    "* Ver los productos disponibles\n",
    "* Agregar productos a su “cesta” (lista)\n",
    "* Calcular el total a pagar\n",
    "* Usar `input()`, `dict`, `list`, `sum()`"
   ]
  },
  {
   "cell_type": "code",
   "execution_count": 3,
   "id": "f783de53",
   "metadata": {},
   "outputs": [
    {
     "name": "stdout",
     "output_type": "stream",
     "text": [
      "Bienvenido a la tienda.\n",
      "Estos son los productos disponibles:\n",
      "- Manzana : $500\n",
      "- Banana : $300\n",
      "- Pan : $1000\n",
      "- Leche : $1200\n",
      "- Huevos : $2000\n",
      "Manzana agregado a la cesta.\n",
      "Banana agregado a la cesta.\n",
      "Pan agregado a la cesta.\n",
      "Pan agregado a la cesta.\n",
      "\n",
      "Tu cesta contiene:\n",
      "- Manzana ($500)\n",
      "- Banana ($300)\n",
      "- Pan ($1000)\n",
      "- Pan ($1000)\n",
      "\n",
      "Total a pagar: $2800\n"
     ]
    }
   ],
   "source": [
    "# Diccionario de productos y precios\n",
    "productos = {\n",
    "    'manzana': 500,\n",
    "    'banana': 300,\n",
    "    'pan': 1000,\n",
    "    'leche': 1200,\n",
    "    'huevos': 2000\n",
    "}\n",
    "\n",
    "cesta = []\n",
    "\n",
    "print(\"Bienvenido a la tienda.\")\n",
    "print(\"Estos son los productos disponibles:\")\n",
    "\n",
    "for producto, precio in productos.items():\n",
    "    print(f\"- {producto.title()} : ${precio}\")\n",
    "\n",
    "while True:\n",
    "    eleccion = input(\"\\nEscribe el nombre del producto que deseas agregar a la cesta (o escribe 'fin' para terminar): \").lower()\n",
    "    if eleccion == 'fin':\n",
    "        break\n",
    "    if eleccion in productos:\n",
    "        cesta.append(eleccion)\n",
    "        print(f\"{eleccion.title()} agregado a la cesta.\")\n",
    "    else:\n",
    "        print(\"Producto no válido, intenta nuevamente.\")\n",
    "\n",
    "total = sum([productos[prod] for prod in cesta])\n",
    "\n",
    "print(\"\\nTu cesta contiene:\")\n",
    "for prod in cesta:\n",
    "    print(f\"- {prod.title()} (${productos[prod]})\")\n",
    "print(f\"\\nTotal a pagar: ${total}\")\n"
   ]
  },
  {
   "cell_type": "markdown",
   "id": "43e8f714",
   "metadata": {},
   "source": [
    "## Ejercicio 3\n",
    "### Validador de contraseña\n",
    "Escribe un programa que evalúe si una contraseña cumple con:\n",
    "* Mínimo 8 caracteres\n",
    "* Al menos una letra mayúscula, una minúscula, y un número\n",
    "* Al menos un símbolo (como `!@#$%`)\n",
    "Usa `any()` y métodos de cadenas."
   ]
  },
  {
   "cell_type": "code",
   "execution_count": 6,
   "id": "d5d2d468",
   "metadata": {},
   "outputs": [
    {
     "name": "stdout",
     "output_type": "stream",
     "text": [
      "Contraseña inválida. Debe tener:\n",
      "- Al menos 8 caracteres.\n",
      "- Al menos una letra mayúscula.\n",
      "- Al menos un número.\n",
      "- Al menos uno de estos símbolos: !@#$%\n",
      "Por favor, intenta nuevamente.\n",
      "\n",
      "Contraseña inválida. Debe tener:\n",
      "- Al menos 8 caracteres.\n",
      "- Al menos una letra mayúscula.\n",
      "- Al menos un número.\n",
      "- Al menos uno de estos símbolos: !@#$%\n",
      "Por favor, intenta nuevamente.\n",
      "\n",
      "Contraseña válida.\n"
     ]
    }
   ],
   "source": [
    "simbolos = \"!@#$%\"\n",
    "\n",
    "while True:\n",
    "    password = input(\"Ingresa tu contraseña: \")\n",
    "\n",
    "    tiene_longitud = len(password) >= 8\n",
    "    tiene_mayuscula = any(c.isupper() for c in password)\n",
    "    tiene_minuscula = any(c.islower() for c in password)\n",
    "    tiene_numero    = any(c.isdigit() for c in password)\n",
    "    tiene_simbolo   = any(c in simbolos for c in password)\n",
    "\n",
    "    if all([tiene_longitud, tiene_mayuscula, tiene_minuscula, tiene_numero, tiene_simbolo]):\n",
    "        print(\"Contraseña válida.\")\n",
    "        break\n",
    "    else:\n",
    "        print(\"Contraseña inválida. Debe tener:\")\n",
    "        if not tiene_longitud:\n",
    "            print(\"- Al menos 8 caracteres.\")\n",
    "        if not tiene_mayuscula:\n",
    "            print(\"- Al menos una letra mayúscula.\")\n",
    "        if not tiene_minuscula:\n",
    "            print(\"- Al menos una letra minúscula.\")\n",
    "        if not tiene_numero:\n",
    "            print(\"- Al menos un número.\")\n",
    "        if not tiene_simbolo:\n",
    "            print(f\"- Al menos uno de estos símbolos: {simbolos}\")\n",
    "        print(\"Por favor, intenta nuevamente.\\n\")"
   ]
  },
  {
   "cell_type": "markdown",
   "id": "65db037e",
   "metadata": {},
   "source": [
    "## Ejercicio 4\n",
    "### Desempaquetado de tuplas en listas\n",
    "Dada una lista de tuplas con pares (nombre, edad), extrae:\n",
    "* Solo los nombres en una lista\n",
    "* El promedio de edades"
   ]
  },
  {
   "cell_type": "code",
   "execution_count": 7,
   "id": "377ca5c3",
   "metadata": {},
   "outputs": [
    {
     "name": "stdout",
     "output_type": "stream",
     "text": [
      "Nombres: ['Ana', 'Luis', 'Sofía', 'Pedro']\n",
      "Promedio de edades: 29.0\n"
     ]
    }
   ],
   "source": [
    "personas = [\n",
    "    (\"Ana\", 24),\n",
    "    (\"Luis\", 32),\n",
    "    (\"Sofía\", 19),\n",
    "    (\"Pedro\", 41)\n",
    "]\n",
    "\n",
    "nombres = [nombre for nombre, edad in personas]\n",
    "edades = [edad for nombre, edad in personas]\n",
    "\n",
    "promedio_edades = sum(edades) / len(edades)\n",
    "\n",
    "print(\"Nombres:\", nombres)\n",
    "print(\"Promedio de edades:\", promedio_edades)"
   ]
  },
  {
   "cell_type": "markdown",
   "id": "f1c95f11",
   "metadata": {},
   "source": [
    "## Ejercicio 5\n",
    "### Calculadora de expresiones\n",
    "Crea un programa que reciba una expresión matemática como cadena `(\"3 + 5 * 2\")` y evalúe su resultado usando `eval()`.\n",
    "Agrega manejo de errores si la expresión es inválida o insegura."
   ]
  },
  {
   "cell_type": "code",
   "execution_count": null,
   "id": "33f81c2d",
   "metadata": {},
   "outputs": [
    {
     "name": "stdout",
     "output_type": "stream",
     "text": [
      "❌ Error en la expresión: invalid syntax (<string>, line 1)\n",
      "❌ Error en la expresión: invalid syntax (<string>, line 1)\n",
      "❌ Error en la expresión: invalid syntax (<string>, line 1)\n",
      "Resultado: 6\n",
      "Resultado: 12\n",
      "Resultado: 42\n",
      "Resultado: 13\n",
      "Hasta pronto.\n"
     ]
    }
   ],
   "source": [
    "while True:\n",
    "    expr = input(\"Ingresa una expresión matemática (o 'fin' para salir): \")\n",
    "    if expr.lower() == 'fin':\n",
    "        break\n",
    "\n",
    "    caracteres_validos = \"0123456789+-*/(). \"\n",
    "\n",
    "    if all(c in caracteres_validos for c in expr):\n",
    "        try:\n",
    "            resultado = eval(expr)\n",
    "            print(f\"Resultado: {resultado}\")\n",
    "        except Exception as e:\n",
    "            print(\"Error en la expresión:\", e)\n",
    "    else:\n",
    "        print(\"Expresión no permitida. Usa solo números y operaciones aritméticas (+, -, *, /, (), .)\")\n"
   ]
  },
  {
   "cell_type": "code",
   "execution_count": null,
   "id": "96e7ebd2",
   "metadata": {},
   "outputs": [],
   "source": []
  }
 ],
 "metadata": {
  "kernelspec": {
   "display_name": "base",
   "language": "python",
   "name": "python3"
  },
  "language_info": {
   "codemirror_mode": {
    "name": "ipython",
    "version": 3
   },
   "file_extension": ".py",
   "mimetype": "text/x-python",
   "name": "python",
   "nbconvert_exporter": "python",
   "pygments_lexer": "ipython3",
   "version": "3.12.8"
  }
 },
 "nbformat": 4,
 "nbformat_minor": 5
}
