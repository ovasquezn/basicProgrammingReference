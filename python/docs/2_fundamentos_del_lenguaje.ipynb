{
 "cells": [
  {
   "cell_type": "markdown",
   "id": "702bd214",
   "metadata": {},
   "source": [
    "# Notebook de apuntes - Python\n",
    "## Capítulo 2 - Fundamentos del lenguaje\n",
    "## Ejercicio 1\n",
    "### Suma simple con entrada de usuario\n",
    "Escribe un programa que pida dos números por consola y muestre su suma."
   ]
  },
  {
   "cell_type": "code",
   "execution_count": null,
   "id": "aa798c22",
   "metadata": {},
   "outputs": [
    {
     "name": "stdout",
     "output_type": "stream",
     "text": [
      "El resultado de la suma es: 11\n"
     ]
    }
   ],
   "source": [
    "# Input\n",
    "# 5 6\n",
    "a, b = map(int,input().split())\n",
    "print(f'El resultado de la suma es: {a+b}')"
   ]
  },
  {
   "cell_type": "markdown",
   "id": "18f25dcd",
   "metadata": {},
   "source": [
    "## Ejercicio 2\n",
    "### Tipo de dato\n",
    "Escribe una función que reciba cualquier dato y devuelva su tipo usando type()."
   ]
  },
  {
   "cell_type": "code",
   "execution_count": 13,
   "id": "dee60396",
   "metadata": {},
   "outputs": [
    {
     "name": "stdout",
     "output_type": "stream",
     "text": [
      "El tipo de valor es: int\n",
      "El tipo de valor es: bool\n",
      "El tipo de valor es: str\n",
      "El tipo de valor es: list\n"
     ]
    }
   ],
   "source": [
    "def type_of_data(value):\n",
    "    return f'El tipo de valor es: {type(value).__name__}'\n",
    "\n",
    "\n",
    "print(type_of_data(8))\n",
    "print(type_of_data(True))\n",
    "print(type_of_data('Test'))\n",
    "print(type_of_data([1,2,3]))"
   ]
  },
  {
   "cell_type": "markdown",
   "id": "e67283f6",
   "metadata": {},
   "source": [
    "## Ejercicio 3\n",
    "### Contar vocales en una cadena\n",
    "Crea una función que reciba una cadena y cuente cuántas vocales contiene (minúsculas y mayúsculas)."
   ]
  },
  {
   "cell_type": "code",
   "execution_count": 12,
   "id": "74dca587",
   "metadata": {},
   "outputs": [
    {
     "name": "stdout",
     "output_type": "stream",
     "text": [
      "7\n"
     ]
    }
   ],
   "source": [
    "def vowels_counts(string):\n",
    "    vowels = 'aeiou'\n",
    "    counter=0\n",
    "    for char in string.lower():\n",
    "        if char in vowels:\n",
    "            counter+=1\n",
    "    return counter\n",
    "\n",
    "print(vowels_counts(\"Esto es un ejemplo\"))"
   ]
  },
  {
   "cell_type": "markdown",
   "id": "9ed284a5",
   "metadata": {},
   "source": [
    "## Ejercicio 4\n",
    "### Conversión de temperatura\n",
    "Pide al usuario una temperatura en Celsius y conviértela a Fahrenheit usando la fórmula:\n",
    "$F = C × 9/5 + 32$"
   ]
  },
  {
   "cell_type": "code",
   "execution_count": 15,
   "id": "2786f09f",
   "metadata": {},
   "outputs": [
    {
     "name": "stdout",
     "output_type": "stream",
     "text": [
      "La temperatura en Ferenheit es 149.0\n"
     ]
    }
   ],
   "source": [
    "value = int(input(\"Ingresa un valor de Temperatura en Celcius\"))\n",
    "\n",
    "def temp_to_F(celcius_temp):\n",
    "    return 32+celcius_temp*9/5\n",
    "\n",
    "print(f'La temperatura en Ferenheit es {temp_to_F(value)}')"
   ]
  },
  {
   "cell_type": "code",
   "execution_count": null,
   "id": "8c800236",
   "metadata": {},
   "outputs": [],
   "source": [
    "name = input(\"Ingresa tu nombre\")\n",
    "edad = int(input(\"Ingresa tu edad\"))\n",
    "\n",
    "print(f'Hola {name}, entonces tu edad es {edad}, te deseamos un cordial saludo')"
   ]
  }
 ],
 "metadata": {
  "kernelspec": {
   "display_name": "base",
   "language": "python",
   "name": "python3"
  },
  "language_info": {
   "codemirror_mode": {
    "name": "ipython",
    "version": 3
   },
   "file_extension": ".py",
   "mimetype": "text/x-python",
   "name": "python",
   "nbconvert_exporter": "python",
   "pygments_lexer": "ipython3",
   "version": "3.12.8"
  }
 },
 "nbformat": 4,
 "nbformat_minor": 5
}
