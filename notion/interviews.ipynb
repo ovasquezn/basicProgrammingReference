{
 "cells": [
  {
   "cell_type": "markdown",
   "id": "347f6c93",
   "metadata": {},
   "source": [
    "# Problemas del Documento: Interview Preparation"
   ]
  },
  {
   "cell_type": "markdown",
   "id": "d20f8457",
   "metadata": {},
   "source": [
    "## Problema Día 29\n",
    "Dado un array de enteros positivos y un número target, encuentra el número mínimo de elementos que sumen al menos target.\n",
    "Ejemplo: arr = [5, 1, 3, 4], target = 7 → respuesta = 2 (usar [4, 3])."
   ]
  },
  {
   "cell_type": "code",
   "execution_count": null,
   "id": "65f2fb00",
   "metadata": {},
   "outputs": [
    {
     "name": "stdout",
     "output_type": "stream",
     "text": [
      "2\n",
      "3\n",
      "1\n",
      "-1\n"
     ]
    }
   ],
   "source": [
    "def min_elements_to_target(arr, target):\n",
    "    arr.sort(reverse=True)\n",
    "    suma = 0\n",
    "    count = 0\n",
    "    \n",
    "    for num in arr:\n",
    "        suma += num\n",
    "        count += 1\n",
    "        if suma >= target:\n",
    "            return count\n",
    "    \n",
    "    return -1  # Por si no se puede alcanzar el target\n",
    "\n",
    "print(min_elements_to_target([5, 1, 3, 4], 7))  # Output: 2\n",
    "print(min_elements_to_target([1, 1, 1, 1], 3))  # Output: 3\n",
    "print(min_elements_to_target([10, 20, 30], 25))  # Output: 1\n",
    "print(min_elements_to_target([2, 2, 2], 7))  # Output: -1"
   ]
  },
  {
   "cell_type": "code",
   "execution_count": null,
   "id": "50af3ce0",
   "metadata": {},
   "outputs": [],
   "source": []
  }
 ],
 "metadata": {
  "kernelspec": {
   "display_name": "base",
   "language": "python",
   "name": "python3"
  },
  "language_info": {
   "codemirror_mode": {
    "name": "ipython",
    "version": 3
   },
   "file_extension": ".py",
   "mimetype": "text/x-python",
   "name": "python",
   "nbconvert_exporter": "python",
   "pygments_lexer": "ipython3",
   "version": "3.12.8"
  }
 },
 "nbformat": 4,
 "nbformat_minor": 5
}
